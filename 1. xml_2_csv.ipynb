{
 "cells": [
  {
   "cell_type": "code",
   "execution_count": 1,
   "id": "f5cf4411",
   "metadata": {},
   "outputs": [],
   "source": [
    "import pandas as pd\n",
    "import xml.etree.ElementTree as xet\n",
    "from glob import glob"
   ]
  },
  {
   "cell_type": "code",
   "execution_count": 2,
   "id": "c4e23264",
   "metadata": {
    "scrolled": true
   },
   "outputs": [
    {
     "data": {
      "text/plain": [
       "['./sample_fullimgs\\\\1622603162_0.xml',\n",
       " './sample_fullimgs\\\\1623370619_0.xml',\n",
       " './sample_fullimgs\\\\1623372505_0.xml',\n",
       " './sample_fullimgs\\\\1623373578_0.xml',\n",
       " './sample_fullimgs\\\\1623375167_0.xml',\n",
       " './sample_fullimgs\\\\1623377917_0.xml',\n",
       " './sample_fullimgs\\\\1623378080_0.xml',\n",
       " './sample_fullimgs\\\\1623378516_0.xml',\n",
       " './sample_fullimgs\\\\1623378846_0.xml',\n",
       " './sample_fullimgs\\\\1623379074_0.xml',\n",
       " './sample_fullimgs\\\\1623380464_0.xml',\n",
       " './sample_fullimgs\\\\1623381606_0.xml',\n",
       " './sample_fullimgs\\\\1623385560_0.xml',\n",
       " './sample_fullimgs\\\\1623387508_0.xml',\n",
       " './sample_fullimgs\\\\1623388359_0.xml',\n",
       " './sample_fullimgs\\\\1623389185_0.xml',\n",
       " './sample_fullimgs\\\\1623391183_0.xml',\n",
       " './sample_fullimgs\\\\1623392964_0.xml',\n",
       " './sample_fullimgs\\\\1623394746_0.xml',\n",
       " './sample_fullimgs\\\\1623395973_0.xml',\n",
       " './sample_fullimgs\\\\1623396672_0.xml',\n",
       " './sample_fullimgs\\\\1623397626_0.xml',\n",
       " './sample_fullimgs\\\\1623397782_0.xml',\n",
       " './sample_fullimgs\\\\1623398111_0.xml',\n",
       " './sample_fullimgs\\\\1623399315_0.xml',\n",
       " './sample_fullimgs\\\\1623399668_0.xml',\n",
       " './sample_fullimgs\\\\1623404193_0.xml',\n",
       " './sample_fullimgs\\\\1623406784_0.xml',\n",
       " './sample_fullimgs\\\\1623407355_0.xml',\n",
       " './sample_fullimgs\\\\1623407454_0.xml',\n",
       " './sample_fullimgs\\\\1623410422_0.xml',\n",
       " './sample_fullimgs\\\\1623412260_0.xml',\n",
       " './sample_fullimgs\\\\1623412263_0.xml',\n",
       " './sample_fullimgs\\\\1623413555_0.xml',\n",
       " './sample_fullimgs\\\\1623413850_0.xml',\n",
       " './sample_fullimgs\\\\1623422569_0.xml',\n",
       " './sample_fullimgs\\\\1623460037_0.xml',\n",
       " './sample_fullimgs\\\\1623468342_0.xml',\n",
       " './sample_fullimgs\\\\1623469561_0.xml',\n",
       " './sample_fullimgs\\\\1623482945_0.xml',\n",
       " './sample_fullimgs\\\\1623483081_0.xml',\n",
       " './sample_fullimgs\\\\1623489917_0.xml',\n",
       " './sample_fullimgs\\\\1623502442_0.xml',\n",
       " './sample_fullimgs\\\\1623550024_0.xml',\n",
       " './sample_fullimgs\\\\1623570624_0.xml',\n",
       " './sample_fullimgs\\\\1623581342_0.xml',\n",
       " './sample_fullimgs\\\\1623588341_0.xml']"
      ]
     },
     "execution_count": 2,
     "metadata": {},
     "output_type": "execute_result"
    }
   ],
   "source": [
    "path = glob('./sample_fullimgs/*.xml')\n",
    "path"
   ]
  },
  {
   "cell_type": "code",
   "execution_count": 3,
   "id": "cda84d06",
   "metadata": {},
   "outputs": [
    {
     "data": {
      "text/plain": [
       "47"
      ]
     },
     "execution_count": 3,
     "metadata": {},
     "output_type": "execute_result"
    }
   ],
   "source": [
    "len(path)"
   ]
  },
  {
   "cell_type": "code",
   "execution_count": 4,
   "id": "484428a7",
   "metadata": {},
   "outputs": [],
   "source": [
    "labels_dict = dict(filepath=[],xmin=[],xmax=[],ymin=[],ymax=[])\n",
    "\n",
    "for filename in path:\n",
    "    info = xet.parse(filename)\n",
    "    root = info.getroot()\n",
    "    member_object = root.find('object')\n",
    "    labels_info = member_object.find('bndbox')\n",
    "    \n",
    "    xmin = int(labels_info.find('xmin').text)\n",
    "    xmax = int(labels_info.find('xmax').text)    \n",
    "    ymin = int(labels_info.find('ymin').text)    \n",
    "    ymax = int(labels_info.find('ymax').text)\n",
    "    \n",
    "    labels_dict['filepath'].append(filename)\n",
    "    labels_dict['xmin'].append(xmin)    \n",
    "    labels_dict['xmax'].append(xmax)    \n",
    "    labels_dict['ymin'].append(ymin)    \n",
    "    labels_dict['ymax'].append(ymax)    "
   ]
  },
  {
   "cell_type": "code",
   "execution_count": 5,
   "id": "8249f497",
   "metadata": {},
   "outputs": [
    {
     "data": {
      "text/html": [
       "<div>\n",
       "<style scoped>\n",
       "    .dataframe tbody tr th:only-of-type {\n",
       "        vertical-align: middle;\n",
       "    }\n",
       "\n",
       "    .dataframe tbody tr th {\n",
       "        vertical-align: top;\n",
       "    }\n",
       "\n",
       "    .dataframe thead th {\n",
       "        text-align: right;\n",
       "    }\n",
       "</style>\n",
       "<table border=\"1\" class=\"dataframe\">\n",
       "  <thead>\n",
       "    <tr style=\"text-align: right;\">\n",
       "      <th></th>\n",
       "      <th>filepath</th>\n",
       "      <th>xmin</th>\n",
       "      <th>xmax</th>\n",
       "      <th>ymin</th>\n",
       "      <th>ymax</th>\n",
       "    </tr>\n",
       "  </thead>\n",
       "  <tbody>\n",
       "    <tr>\n",
       "      <th>0</th>\n",
       "      <td>./sample_fullimgs\\1622603162_0.xml</td>\n",
       "      <td>194</td>\n",
       "      <td>298</td>\n",
       "      <td>475</td>\n",
       "      <td>506</td>\n",
       "    </tr>\n",
       "    <tr>\n",
       "      <th>1</th>\n",
       "      <td>./sample_fullimgs\\1623370619_0.xml</td>\n",
       "      <td>175</td>\n",
       "      <td>394</td>\n",
       "      <td>304</td>\n",
       "      <td>350</td>\n",
       "    </tr>\n",
       "    <tr>\n",
       "      <th>2</th>\n",
       "      <td>./sample_fullimgs\\1623372505_0.xml</td>\n",
       "      <td>214</td>\n",
       "      <td>415</td>\n",
       "      <td>788</td>\n",
       "      <td>844</td>\n",
       "    </tr>\n",
       "    <tr>\n",
       "      <th>3</th>\n",
       "      <td>./sample_fullimgs\\1623373578_0.xml</td>\n",
       "      <td>41</td>\n",
       "      <td>283</td>\n",
       "      <td>475</td>\n",
       "      <td>537</td>\n",
       "    </tr>\n",
       "    <tr>\n",
       "      <th>4</th>\n",
       "      <td>./sample_fullimgs\\1623375167_0.xml</td>\n",
       "      <td>177</td>\n",
       "      <td>399</td>\n",
       "      <td>558</td>\n",
       "      <td>604</td>\n",
       "    </tr>\n",
       "  </tbody>\n",
       "</table>\n",
       "</div>"
      ],
      "text/plain": [
       "                             filepath  xmin  xmax  ymin  ymax\n",
       "0  ./sample_fullimgs\\1622603162_0.xml   194   298   475   506\n",
       "1  ./sample_fullimgs\\1623370619_0.xml   175   394   304   350\n",
       "2  ./sample_fullimgs\\1623372505_0.xml   214   415   788   844\n",
       "3  ./sample_fullimgs\\1623373578_0.xml    41   283   475   537\n",
       "4  ./sample_fullimgs\\1623375167_0.xml   177   399   558   604"
      ]
     },
     "execution_count": 5,
     "metadata": {},
     "output_type": "execute_result"
    }
   ],
   "source": [
    "df = pd.DataFrame(labels_dict)\n",
    "df.head()"
   ]
  },
  {
   "cell_type": "code",
   "execution_count": 6,
   "id": "764fb056",
   "metadata": {},
   "outputs": [],
   "source": [
    "df.to_csv('labels.csv',index=False)"
   ]
  },
  {
   "cell_type": "code",
   "execution_count": null,
   "id": "941241cb",
   "metadata": {},
   "outputs": [],
   "source": []
  },
  {
   "cell_type": "code",
   "execution_count": null,
   "id": "635af8a0",
   "metadata": {},
   "outputs": [],
   "source": []
  }
 ],
 "metadata": {
  "kernelspec": {
   "display_name": "Python 3",
   "language": "python",
   "name": "python3"
  },
  "language_info": {
   "codemirror_mode": {
    "name": "ipython",
    "version": 3
   },
   "file_extension": ".py",
   "mimetype": "text/x-python",
   "name": "python",
   "nbconvert_exporter": "python",
   "pygments_lexer": "ipython3",
   "version": "3.8.8"
  }
 },
 "nbformat": 4,
 "nbformat_minor": 5
}
