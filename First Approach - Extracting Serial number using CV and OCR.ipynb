{
 "cells": [
  {
   "cell_type": "markdown",
   "id": "f398dfb7",
   "metadata": {},
   "source": [
    "# Extracting Serial Number from Meter Images"
   ]
  },
  {
   "cell_type": "markdown",
   "id": "018b6eca",
   "metadata": {},
   "source": [
    "## Install & Import Dependencies"
   ]
  },
  {
   "cell_type": "code",
   "execution_count": 1,
   "id": "6799ccfe",
   "metadata": {},
   "outputs": [],
   "source": [
    "import numpy as np\n",
    "import pandas as pd\n",
    "import matplotlib.pyplot as plt\n",
    "\n",
    "import cv2\n",
    "import os\n",
    "\n",
    "import easyocr\n",
    "from glob import glob\n",
    "import xml.etree.ElementTree as xet\n",
    "\n",
    "import warnings\n",
    "warnings.filterwarnings(\"ignore\")"
   ]
  },
  {
   "cell_type": "markdown",
   "id": "7dec2ac0",
   "metadata": {},
   "source": [
    "## Extracting only .xml file from the sample_fullimgs folder"
   ]
  },
  {
   "cell_type": "code",
   "execution_count": 2,
   "id": "47a1c50d",
   "metadata": {
    "scrolled": true
   },
   "outputs": [
    {
     "data": {
      "text/plain": [
       "['./sample_fullimgs\\\\1622603162_0.xml',\n",
       " './sample_fullimgs\\\\1623370619_0.xml',\n",
       " './sample_fullimgs\\\\1623372505_0.xml',\n",
       " './sample_fullimgs\\\\1623373578_0.xml',\n",
       " './sample_fullimgs\\\\1623375167_0.xml',\n",
       " './sample_fullimgs\\\\1623377917_0.xml',\n",
       " './sample_fullimgs\\\\1623378080_0.xml',\n",
       " './sample_fullimgs\\\\1623378516_0.xml',\n",
       " './sample_fullimgs\\\\1623378846_0.xml',\n",
       " './sample_fullimgs\\\\1623379074_0.xml',\n",
       " './sample_fullimgs\\\\1623380464_0.xml',\n",
       " './sample_fullimgs\\\\1623381606_0.xml',\n",
       " './sample_fullimgs\\\\1623385560_0.xml',\n",
       " './sample_fullimgs\\\\1623387508_0.xml',\n",
       " './sample_fullimgs\\\\1623388359_0.xml',\n",
       " './sample_fullimgs\\\\1623389185_0.xml',\n",
       " './sample_fullimgs\\\\1623391183_0.xml',\n",
       " './sample_fullimgs\\\\1623392964_0.xml',\n",
       " './sample_fullimgs\\\\1623394746_0.xml',\n",
       " './sample_fullimgs\\\\1623395973_0.xml',\n",
       " './sample_fullimgs\\\\1623396672_0.xml',\n",
       " './sample_fullimgs\\\\1623397626_0.xml',\n",
       " './sample_fullimgs\\\\1623397782_0.xml',\n",
       " './sample_fullimgs\\\\1623398111_0.xml',\n",
       " './sample_fullimgs\\\\1623399315_0.xml',\n",
       " './sample_fullimgs\\\\1623399668_0.xml',\n",
       " './sample_fullimgs\\\\1623404193_0.xml',\n",
       " './sample_fullimgs\\\\1623406784_0.xml',\n",
       " './sample_fullimgs\\\\1623407355_0.xml',\n",
       " './sample_fullimgs\\\\1623407454_0.xml',\n",
       " './sample_fullimgs\\\\1623410422_0.xml',\n",
       " './sample_fullimgs\\\\1623412260_0.xml',\n",
       " './sample_fullimgs\\\\1623412263_0.xml',\n",
       " './sample_fullimgs\\\\1623413555_0.xml',\n",
       " './sample_fullimgs\\\\1623413850_0.xml',\n",
       " './sample_fullimgs\\\\1623422569_0.xml',\n",
       " './sample_fullimgs\\\\1623460037_0.xml',\n",
       " './sample_fullimgs\\\\1623468342_0.xml',\n",
       " './sample_fullimgs\\\\1623469561_0.xml',\n",
       " './sample_fullimgs\\\\1623482945_0.xml',\n",
       " './sample_fullimgs\\\\1623483081_0.xml',\n",
       " './sample_fullimgs\\\\1623489917_0.xml',\n",
       " './sample_fullimgs\\\\1623502442_0.xml',\n",
       " './sample_fullimgs\\\\1623550024_0.xml',\n",
       " './sample_fullimgs\\\\1623570624_0.xml',\n",
       " './sample_fullimgs\\\\1623581342_0.xml',\n",
       " './sample_fullimgs\\\\1623588341_0.xml']"
      ]
     },
     "execution_count": 2,
     "metadata": {},
     "output_type": "execute_result"
    }
   ],
   "source": [
    "path = glob('./sample_fullimgs/*.xml')\n",
    "path"
   ]
  },
  {
   "cell_type": "markdown",
   "id": "9f914915",
   "metadata": {},
   "source": [
    "## Extracting coordinates of the bounding box"
   ]
  },
  {
   "cell_type": "code",
   "execution_count": 3,
   "id": "50bc9023",
   "metadata": {},
   "outputs": [],
   "source": [
    "labels_dict = dict(filepath=[],xmin=[],xmax=[],ymin=[],ymax=[])\n",
    "\n",
    "for filename in path:\n",
    "    info = xet.parse(filename)\n",
    "    root = info.getroot()\n",
    "    member_object = root.find('object')\n",
    "    labels_info = member_object.find('bndbox')\n",
    "    \n",
    "    xmin = int(labels_info.find('xmin').text)\n",
    "    xmax = int(labels_info.find('xmax').text)    \n",
    "    ymin = int(labels_info.find('ymin').text)    \n",
    "    ymax = int(labels_info.find('ymax').text)\n",
    "    \n",
    "    labels_dict['filepath'].append(filename)\n",
    "    labels_dict['xmin'].append(xmin)    \n",
    "    labels_dict['xmax'].append(xmax)    \n",
    "    labels_dict['ymin'].append(ymin)    \n",
    "    labels_dict['ymax'].append(ymax)    "
   ]
  },
  {
   "cell_type": "markdown",
   "id": "1f2d58aa",
   "metadata": {},
   "source": [
    "## Making DataFrame of coordinates with their respective images"
   ]
  },
  {
   "cell_type": "code",
   "execution_count": 4,
   "id": "82ebe35c",
   "metadata": {},
   "outputs": [
    {
     "data": {
      "text/html": [
       "<div>\n",
       "<style scoped>\n",
       "    .dataframe tbody tr th:only-of-type {\n",
       "        vertical-align: middle;\n",
       "    }\n",
       "\n",
       "    .dataframe tbody tr th {\n",
       "        vertical-align: top;\n",
       "    }\n",
       "\n",
       "    .dataframe thead th {\n",
       "        text-align: right;\n",
       "    }\n",
       "</style>\n",
       "<table border=\"1\" class=\"dataframe\">\n",
       "  <thead>\n",
       "    <tr style=\"text-align: right;\">\n",
       "      <th></th>\n",
       "      <th>filepath</th>\n",
       "      <th>xmin</th>\n",
       "      <th>xmax</th>\n",
       "      <th>ymin</th>\n",
       "      <th>ymax</th>\n",
       "    </tr>\n",
       "  </thead>\n",
       "  <tbody>\n",
       "    <tr>\n",
       "      <th>0</th>\n",
       "      <td>./sample_fullimgs\\1622603162_0.xml</td>\n",
       "      <td>194</td>\n",
       "      <td>298</td>\n",
       "      <td>475</td>\n",
       "      <td>506</td>\n",
       "    </tr>\n",
       "    <tr>\n",
       "      <th>1</th>\n",
       "      <td>./sample_fullimgs\\1623370619_0.xml</td>\n",
       "      <td>175</td>\n",
       "      <td>394</td>\n",
       "      <td>304</td>\n",
       "      <td>350</td>\n",
       "    </tr>\n",
       "    <tr>\n",
       "      <th>2</th>\n",
       "      <td>./sample_fullimgs\\1623372505_0.xml</td>\n",
       "      <td>214</td>\n",
       "      <td>415</td>\n",
       "      <td>788</td>\n",
       "      <td>844</td>\n",
       "    </tr>\n",
       "    <tr>\n",
       "      <th>3</th>\n",
       "      <td>./sample_fullimgs\\1623373578_0.xml</td>\n",
       "      <td>41</td>\n",
       "      <td>283</td>\n",
       "      <td>475</td>\n",
       "      <td>537</td>\n",
       "    </tr>\n",
       "    <tr>\n",
       "      <th>4</th>\n",
       "      <td>./sample_fullimgs\\1623375167_0.xml</td>\n",
       "      <td>177</td>\n",
       "      <td>399</td>\n",
       "      <td>558</td>\n",
       "      <td>604</td>\n",
       "    </tr>\n",
       "  </tbody>\n",
       "</table>\n",
       "</div>"
      ],
      "text/plain": [
       "                             filepath  xmin  xmax  ymin  ymax\n",
       "0  ./sample_fullimgs\\1622603162_0.xml   194   298   475   506\n",
       "1  ./sample_fullimgs\\1623370619_0.xml   175   394   304   350\n",
       "2  ./sample_fullimgs\\1623372505_0.xml   214   415   788   844\n",
       "3  ./sample_fullimgs\\1623373578_0.xml    41   283   475   537\n",
       "4  ./sample_fullimgs\\1623375167_0.xml   177   399   558   604"
      ]
     },
     "execution_count": 4,
     "metadata": {},
     "output_type": "execute_result"
    }
   ],
   "source": [
    "df = pd.DataFrame(labels_dict)\n",
    "df.head()"
   ]
  },
  {
   "cell_type": "markdown",
   "id": "3df17d0a",
   "metadata": {},
   "source": [
    "## Saving above new data frame on local machine "
   ]
  },
  {
   "cell_type": "code",
   "execution_count": 5,
   "id": "c53c7585",
   "metadata": {},
   "outputs": [],
   "source": [
    "#df.to_csv('labels.csv',index=False)"
   ]
  },
  {
   "cell_type": "markdown",
   "id": "34df872a",
   "metadata": {},
   "source": [
    "## Reading label dataset"
   ]
  },
  {
   "cell_type": "code",
   "execution_count": 6,
   "id": "d679bbc7",
   "metadata": {},
   "outputs": [
    {
     "data": {
      "text/html": [
       "<div>\n",
       "<style scoped>\n",
       "    .dataframe tbody tr th:only-of-type {\n",
       "        vertical-align: middle;\n",
       "    }\n",
       "\n",
       "    .dataframe tbody tr th {\n",
       "        vertical-align: top;\n",
       "    }\n",
       "\n",
       "    .dataframe thead th {\n",
       "        text-align: right;\n",
       "    }\n",
       "</style>\n",
       "<table border=\"1\" class=\"dataframe\">\n",
       "  <thead>\n",
       "    <tr style=\"text-align: right;\">\n",
       "      <th></th>\n",
       "      <th>filepath</th>\n",
       "      <th>xmin</th>\n",
       "      <th>xmax</th>\n",
       "      <th>ymin</th>\n",
       "      <th>ymax</th>\n",
       "    </tr>\n",
       "  </thead>\n",
       "  <tbody>\n",
       "    <tr>\n",
       "      <th>0</th>\n",
       "      <td>./sample_fullimgs\\1622603162_0.xml</td>\n",
       "      <td>194</td>\n",
       "      <td>298</td>\n",
       "      <td>475</td>\n",
       "      <td>506</td>\n",
       "    </tr>\n",
       "    <tr>\n",
       "      <th>1</th>\n",
       "      <td>./sample_fullimgs\\1623370619_0.xml</td>\n",
       "      <td>175</td>\n",
       "      <td>394</td>\n",
       "      <td>304</td>\n",
       "      <td>350</td>\n",
       "    </tr>\n",
       "    <tr>\n",
       "      <th>2</th>\n",
       "      <td>./sample_fullimgs\\1623372505_0.xml</td>\n",
       "      <td>214</td>\n",
       "      <td>415</td>\n",
       "      <td>788</td>\n",
       "      <td>844</td>\n",
       "    </tr>\n",
       "    <tr>\n",
       "      <th>3</th>\n",
       "      <td>./sample_fullimgs\\1623373578_0.xml</td>\n",
       "      <td>41</td>\n",
       "      <td>283</td>\n",
       "      <td>475</td>\n",
       "      <td>537</td>\n",
       "    </tr>\n",
       "    <tr>\n",
       "      <th>4</th>\n",
       "      <td>./sample_fullimgs\\1623375167_0.xml</td>\n",
       "      <td>177</td>\n",
       "      <td>399</td>\n",
       "      <td>558</td>\n",
       "      <td>604</td>\n",
       "    </tr>\n",
       "  </tbody>\n",
       "</table>\n",
       "</div>"
      ],
      "text/plain": [
       "                             filepath  xmin  xmax  ymin  ymax\n",
       "0  ./sample_fullimgs\\1622603162_0.xml   194   298   475   506\n",
       "1  ./sample_fullimgs\\1623370619_0.xml   175   394   304   350\n",
       "2  ./sample_fullimgs\\1623372505_0.xml   214   415   788   844\n",
       "3  ./sample_fullimgs\\1623373578_0.xml    41   283   475   537\n",
       "4  ./sample_fullimgs\\1623375167_0.xml   177   399   558   604"
      ]
     },
     "execution_count": 6,
     "metadata": {},
     "output_type": "execute_result"
    }
   ],
   "source": [
    "df = pd.read_csv('labels.csv')\n",
    "df.head()"
   ]
  },
  {
   "cell_type": "code",
   "execution_count": 7,
   "id": "d8608943",
   "metadata": {},
   "outputs": [
    {
     "data": {
      "text/plain": [
       "(47, 5)"
      ]
     },
     "execution_count": 7,
     "metadata": {},
     "output_type": "execute_result"
    }
   ],
   "source": [
    "df.shape"
   ]
  },
  {
   "cell_type": "markdown",
   "id": "ade875b3",
   "metadata": {},
   "source": [
    "## Function to extract File Path from .xml file"
   ]
  },
  {
   "cell_type": "code",
   "execution_count": 8,
   "id": "1dc08758",
   "metadata": {},
   "outputs": [],
   "source": [
    "def getFilename(filename):\n",
    "    filename_image = xet.parse(filename).getroot().find('filename').text\n",
    "    filepath_image = os.path.join('./sample_fullimgs',filename_image)\n",
    "    return filepath_image"
   ]
  },
  {
   "cell_type": "code",
   "execution_count": 9,
   "id": "01a516dd",
   "metadata": {
    "scrolled": true
   },
   "outputs": [
    {
     "data": {
      "text/plain": [
       "['./sample_fullimgs\\\\1622603162_0.jpg',\n",
       " './sample_fullimgs\\\\1623370619_0.jpg',\n",
       " './sample_fullimgs\\\\1623372505_0.jpg',\n",
       " './sample_fullimgs\\\\1623373578_0.jpg',\n",
       " './sample_fullimgs\\\\1623375167_0.jpg',\n",
       " './sample_fullimgs\\\\1623377917_0.jpg',\n",
       " './sample_fullimgs\\\\1623378080_0.jpg',\n",
       " './sample_fullimgs\\\\1623378516_0.jpg',\n",
       " './sample_fullimgs\\\\1623378846_0.jpg',\n",
       " './sample_fullimgs\\\\1623379074_0.jpg',\n",
       " './sample_fullimgs\\\\1623380464_0.jpg',\n",
       " './sample_fullimgs\\\\1623381606_0.jpg',\n",
       " './sample_fullimgs\\\\1623385560_0.jpg',\n",
       " './sample_fullimgs\\\\1623387508_0.jpg',\n",
       " './sample_fullimgs\\\\1623388359_0.jpg',\n",
       " './sample_fullimgs\\\\1623389185_0.jpg',\n",
       " './sample_fullimgs\\\\1623391183_0.jpg',\n",
       " './sample_fullimgs\\\\1623392964_0.jpg',\n",
       " './sample_fullimgs\\\\1623394746_0.jpg',\n",
       " './sample_fullimgs\\\\1623395973_0.jpg',\n",
       " './sample_fullimgs\\\\1623396672_0.jpg',\n",
       " './sample_fullimgs\\\\1623397626_0.jpg',\n",
       " './sample_fullimgs\\\\1623397782_0.jpg',\n",
       " './sample_fullimgs\\\\1623398111_0.jpg',\n",
       " './sample_fullimgs\\\\1623399315_0.jpg',\n",
       " './sample_fullimgs\\\\1623399668_0.jpg',\n",
       " './sample_fullimgs\\\\1623404193_0.jpg',\n",
       " './sample_fullimgs\\\\1623406784_0.jpg',\n",
       " './sample_fullimgs\\\\1623407355_0.jpg',\n",
       " './sample_fullimgs\\\\1623407454_0.jpg',\n",
       " './sample_fullimgs\\\\1623410422_0.jpg',\n",
       " './sample_fullimgs\\\\1623412260_0.jpg',\n",
       " './sample_fullimgs\\\\1623412263_0.jpg',\n",
       " './sample_fullimgs\\\\1623413555_0.jpg',\n",
       " './sample_fullimgs\\\\1623413850_0.jpg',\n",
       " './sample_fullimgs\\\\1623422569_0.jpg',\n",
       " './sample_fullimgs\\\\1623460037_0.jpg',\n",
       " './sample_fullimgs\\\\1623468342_0.jpg',\n",
       " './sample_fullimgs\\\\1623469561_0.jpg',\n",
       " './sample_fullimgs\\\\1623482945_0.jpg',\n",
       " './sample_fullimgs\\\\1623483081_0.jpg',\n",
       " './sample_fullimgs\\\\1623489917_0.jpg',\n",
       " './sample_fullimgs\\\\1623502442_0.jpg',\n",
       " './sample_fullimgs\\\\1623550024_0.jpg',\n",
       " './sample_fullimgs\\\\1623570624_0.jpg',\n",
       " './sample_fullimgs\\\\1623581342_0.jpg',\n",
       " './sample_fullimgs\\\\1623588341_0.jpg']"
      ]
     },
     "execution_count": 9,
     "metadata": {},
     "output_type": "execute_result"
    }
   ],
   "source": [
    "image_path = list(df['filepath'].apply(getFilename))\n",
    "image_path"
   ]
  },
  {
   "cell_type": "code",
   "execution_count": 10,
   "id": "f04a2260",
   "metadata": {},
   "outputs": [
    {
     "data": {
      "text/plain": [
       "47"
      ]
     },
     "execution_count": 10,
     "metadata": {},
     "output_type": "execute_result"
    }
   ],
   "source": [
    "labels = df.iloc[:,1:].values\n",
    "len(labels)"
   ]
  },
  {
   "cell_type": "markdown",
   "id": "24e7de6c",
   "metadata": {},
   "source": [
    "## Extracting Serial number from meter Image"
   ]
  },
  {
   "cell_type": "code",
   "execution_count": 11,
   "id": "da283b00",
   "metadata": {},
   "outputs": [
    {
     "name": "stderr",
     "output_type": "stream",
     "text": [
      "CUDA not available - defaulting to CPU. Note: This module is much faster with a GPU.\n",
      "CUDA not available - defaulting to CPU. Note: This module is much faster with a GPU.\n",
      "CUDA not available - defaulting to CPU. Note: This module is much faster with a GPU.\n",
      "CUDA not available - defaulting to CPU. Note: This module is much faster with a GPU.\n",
      "CUDA not available - defaulting to CPU. Note: This module is much faster with a GPU.\n",
      "CUDA not available - defaulting to CPU. Note: This module is much faster with a GPU.\n",
      "CUDA not available - defaulting to CPU. Note: This module is much faster with a GPU.\n",
      "CUDA not available - defaulting to CPU. Note: This module is much faster with a GPU.\n",
      "CUDA not available - defaulting to CPU. Note: This module is much faster with a GPU.\n",
      "CUDA not available - defaulting to CPU. Note: This module is much faster with a GPU.\n",
      "CUDA not available - defaulting to CPU. Note: This module is much faster with a GPU.\n",
      "CUDA not available - defaulting to CPU. Note: This module is much faster with a GPU.\n",
      "CUDA not available - defaulting to CPU. Note: This module is much faster with a GPU.\n",
      "CUDA not available - defaulting to CPU. Note: This module is much faster with a GPU.\n",
      "CUDA not available - defaulting to CPU. Note: This module is much faster with a GPU.\n",
      "CUDA not available - defaulting to CPU. Note: This module is much faster with a GPU.\n",
      "CUDA not available - defaulting to CPU. Note: This module is much faster with a GPU.\n",
      "CUDA not available - defaulting to CPU. Note: This module is much faster with a GPU.\n",
      "CUDA not available - defaulting to CPU. Note: This module is much faster with a GPU.\n",
      "CUDA not available - defaulting to CPU. Note: This module is much faster with a GPU.\n",
      "CUDA not available - defaulting to CPU. Note: This module is much faster with a GPU.\n",
      "CUDA not available - defaulting to CPU. Note: This module is much faster with a GPU.\n",
      "CUDA not available - defaulting to CPU. Note: This module is much faster with a GPU.\n",
      "CUDA not available - defaulting to CPU. Note: This module is much faster with a GPU.\n",
      "CUDA not available - defaulting to CPU. Note: This module is much faster with a GPU.\n",
      "CUDA not available - defaulting to CPU. Note: This module is much faster with a GPU.\n",
      "CUDA not available - defaulting to CPU. Note: This module is much faster with a GPU.\n",
      "CUDA not available - defaulting to CPU. Note: This module is much faster with a GPU.\n",
      "CUDA not available - defaulting to CPU. Note: This module is much faster with a GPU.\n",
      "CUDA not available - defaulting to CPU. Note: This module is much faster with a GPU.\n",
      "CUDA not available - defaulting to CPU. Note: This module is much faster with a GPU.\n",
      "CUDA not available - defaulting to CPU. Note: This module is much faster with a GPU.\n",
      "CUDA not available - defaulting to CPU. Note: This module is much faster with a GPU.\n",
      "CUDA not available - defaulting to CPU. Note: This module is much faster with a GPU.\n",
      "CUDA not available - defaulting to CPU. Note: This module is much faster with a GPU.\n",
      "CUDA not available - defaulting to CPU. Note: This module is much faster with a GPU.\n",
      "CUDA not available - defaulting to CPU. Note: This module is much faster with a GPU.\n",
      "CUDA not available - defaulting to CPU. Note: This module is much faster with a GPU.\n",
      "CUDA not available - defaulting to CPU. Note: This module is much faster with a GPU.\n",
      "CUDA not available - defaulting to CPU. Note: This module is much faster with a GPU.\n",
      "CUDA not available - defaulting to CPU. Note: This module is much faster with a GPU.\n",
      "CUDA not available - defaulting to CPU. Note: This module is much faster with a GPU.\n",
      "CUDA not available - defaulting to CPU. Note: This module is much faster with a GPU.\n",
      "CUDA not available - defaulting to CPU. Note: This module is much faster with a GPU.\n",
      "CUDA not available - defaulting to CPU. Note: This module is much faster with a GPU.\n",
      "CUDA not available - defaulting to CPU. Note: This module is much faster with a GPU.\n",
      "CUDA not available - defaulting to CPU. Note: This module is much faster with a GPU.\n"
     ]
    }
   ],
   "source": [
    "serial_no = []\n",
    "for i in range(len(labels)):\n",
    "    file_path = image_path[i]\n",
    "    img = cv2.imread(file_path)\n",
    "\n",
    "    x1,x2,y1,y2 = labels[i]\n",
    "    cv2.rectangle(img,(x1,y1),(x2,y2),(0,255,0),2)\n",
    "    #plt.imshow(img)\n",
    "    \n",
    "    cropped_img = img[y1:y2, x1:x2]\n",
    "    #plt.imshow(cropped_img)\n",
    "\n",
    "    reader = easyocr.Reader(['en'])\n",
    "    result = reader.readtext(cropped_img)\n",
    "    #result[0][-2]\n",
    "    try:\n",
    "        serial_no.append(result[0][-2])\n",
    "    except:\n",
    "        serial_no.append('Unable to read serial no')\n",
    "    "
   ]
  },
  {
   "cell_type": "markdown",
   "id": "e75f8b16",
   "metadata": {},
   "source": [
    "## Function of extract File Name of Images"
   ]
  },
  {
   "cell_type": "code",
   "execution_count": 12,
   "id": "cfb8d49d",
   "metadata": {},
   "outputs": [],
   "source": [
    "def getFilename(filename):\n",
    "    filename_image = xet.parse(filename).getroot().find('filename').text\n",
    "    return filename_image"
   ]
  },
  {
   "cell_type": "code",
   "execution_count": 13,
   "id": "00287d64",
   "metadata": {},
   "outputs": [],
   "source": [
    "image_name = list(df['filepath'].apply(getFilename))"
   ]
  },
  {
   "cell_type": "markdown",
   "id": "cee5ec97",
   "metadata": {},
   "source": [
    "## Dataset of image name with their respective serial number number"
   ]
  },
  {
   "cell_type": "code",
   "execution_count": 14,
   "id": "c5507905",
   "metadata": {},
   "outputs": [
    {
     "data": {
      "text/html": [
       "<div>\n",
       "<style scoped>\n",
       "    .dataframe tbody tr th:only-of-type {\n",
       "        vertical-align: middle;\n",
       "    }\n",
       "\n",
       "    .dataframe tbody tr th {\n",
       "        vertical-align: top;\n",
       "    }\n",
       "\n",
       "    .dataframe thead th {\n",
       "        text-align: right;\n",
       "    }\n",
       "</style>\n",
       "<table border=\"1\" class=\"dataframe\">\n",
       "  <thead>\n",
       "    <tr style=\"text-align: right;\">\n",
       "      <th></th>\n",
       "      <th>Image_Name</th>\n",
       "      <th>Serial_No</th>\n",
       "    </tr>\n",
       "  </thead>\n",
       "  <tbody>\n",
       "    <tr>\n",
       "      <th>0</th>\n",
       "      <td>1622603162_0.jpg</td>\n",
       "      <td>Ezz58411</td>\n",
       "    </tr>\n",
       "    <tr>\n",
       "      <th>1</th>\n",
       "      <td>1623370619_0.jpg</td>\n",
       "      <td>63113879</td>\n",
       "    </tr>\n",
       "    <tr>\n",
       "      <th>2</th>\n",
       "      <td>1623372505_0.jpg</td>\n",
       "      <td>75382</td>\n",
       "    </tr>\n",
       "    <tr>\n",
       "      <th>3</th>\n",
       "      <td>1623373578_0.jpg</td>\n",
       "      <td>1284`</td>\n",
       "    </tr>\n",
       "    <tr>\n",
       "      <th>4</th>\n",
       "      <td>1623375167_0.jpg</td>\n",
       "      <td>31040176</td>\n",
       "    </tr>\n",
       "  </tbody>\n",
       "</table>\n",
       "</div>"
      ],
      "text/plain": [
       "         Image_Name Serial_No\n",
       "0  1622603162_0.jpg  Ezz58411\n",
       "1  1623370619_0.jpg  63113879\n",
       "2  1623372505_0.jpg     75382\n",
       "3  1623373578_0.jpg     1284`\n",
       "4  1623375167_0.jpg  31040176"
      ]
     },
     "execution_count": 14,
     "metadata": {},
     "output_type": "execute_result"
    }
   ],
   "source": [
    "sn_df = pd.DataFrame(list(zip(image_name , serial_no )), columns = ['Image_Name',\"Serial_No\"])\n",
    "sn_df.head()"
   ]
  },
  {
   "cell_type": "markdown",
   "id": "abc7c9be",
   "metadata": {},
   "source": [
    "## Save sn_df dataset"
   ]
  },
  {
   "cell_type": "code",
   "execution_count": 15,
   "id": "a64037ac",
   "metadata": {},
   "outputs": [],
   "source": [
    "#df.to_csv('Meter_SerialNo.csv',index=False)"
   ]
  }
 ],
 "metadata": {
  "kernelspec": {
   "display_name": "Python 3",
   "language": "python",
   "name": "python3"
  },
  "language_info": {
   "codemirror_mode": {
    "name": "ipython",
    "version": 3
   },
   "file_extension": ".py",
   "mimetype": "text/x-python",
   "name": "python",
   "nbconvert_exporter": "python",
   "pygments_lexer": "ipython3",
   "version": "3.8.8"
  }
 },
 "nbformat": 4,
 "nbformat_minor": 5
}
